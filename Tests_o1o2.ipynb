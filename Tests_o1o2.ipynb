{
  "cells": [
    {
      "cell_type": "markdown",
      "metadata": {
        "id": "BvdXYcVfMzXL"
      },
      "source": [
        "# Robustness by regularization\n"
      ]
    },
    {
      "cell_type": "code",
      "execution_count": null,
      "metadata": {
        "collapsed": true,
        "id": "y95cvWJuMzXS"
      },
      "outputs": [],
      "source": [
        "%load_ext autoreload\n",
        "%autoreload 2"
      ]
    },
    {
      "cell_type": "code",
      "execution_count": null,
      "metadata": {
        "id": "3_H7XDzdMzXU"
      },
      "outputs": [],
      "source": [
        "import sys\n",
        "import numpy as np\n",
        "from Robust_nn.OrdOneL import OrdOneL, OrdTwoL\n",
        "import matplotlib.pyplot as plt\n",
        "from utils.utils import read_vision_dataset\n",
        "from utils.convnet import ConvNet\n",
        "from utils.convnet_silu import ConvNetSiLU\n",
        "import os\n",
        "import torch\n",
        "import gc"
      ]
    },
    {
      "cell_type": "markdown",
      "metadata": {
        "id": "Pkixup8cMzXV"
      },
      "source": [
        "**Read the DataLoader**"
      ]
    },
    {
      "cell_type": "code",
      "execution_count": null,
      "metadata": {
        "colab": {
          "base_uri": "https://localhost:8080/"
        },
        "id": "61O7_UXXMzXW",
        "outputId": "1269f263-9770-4251-a3a0-9eeeca9df08d"
      },
      "outputs": [],
      "source": [
        "trainloader, testloader = read_vision_dataset('../data', dataset='MNIST')"
      ]
    },
    {
      "cell_type": "markdown",
      "metadata": {
        "id": "6tPM5JyVkPPH"
      },
      "source": [
        "**Creating and comparing results**"
      ]
    },
    {
      "cell_type": "code",
      "execution_count": null,
      "metadata": {
        "colab": {
          "base_uri": "https://localhost:8080/",
          "height": 1000
        },
        "id": "TkX6wi4PF-g9",
        "outputId": "b64899e6-b2b4-4796-9ed8-4b618ef82010"
      },
      "outputs": [],
      "source": [
        "# options = {'only o1':(True,False, False), 'only o2':(False, True, False), 'both': (True,True, False), 'none':(False,False,False), 'modO2':(False,True,True) } \n",
        "options = {'only o1':(True,False, False), 'both': (True,True, True), 'none':(False,False,False) } \n",
        "rvec = [2,4,np.inf]\n",
        "deltav = [0.2]\n",
        "mdict = {}\n",
        "basepath = os.curdir\n",
        "mpath = os.path.join(basepath,'models')\n",
        "\n",
        "for i,(k,(o1,o2, mod_o2)) in enumerate(options.items()):\n",
        "  auxd = {}\n",
        "  for r in rvec:\n",
        "    rstr = str(r)\n",
        "    print('\\n*******\\n ** Case '+k+', r=',r,'\\n ******')\n",
        "    torch.manual_seed(0)\n",
        "    np.random.seed(0)\n",
        "    auxd[rstr] = {}\n",
        "    network = ConvNet()\n",
        "    net_RegTrin = OrdTwoL(network, trainloader, testloader,  device='cuda', delta =0.2, r= r, o2=o2, o1=o1, mod_o2=mod_o2) #'cuda'\n",
        "    net_RegTrin.set_optimizer(optim_alg='Adam', args={'lr':1e-4})\n",
        "    net_RegTrin.train(epochs=5, delta=deltav)\n",
        "    auxd[rstr]['train_loss'] = net_RegTrin.train_loss.copy()\n",
        "    auxd[rstr]['train_acc'] = net_RegTrin.train_acc.copy()\n",
        "    auxd[rstr]['train_reg'] = net_RegTrin.train_reg.copy()\n",
        "    auxd[rstr]['test_acc_adv'] = net_RegTrin.test_acc_adv.copy()\n",
        "    auxd[rstr]['test_acc_clean'] = net_RegTrin.test_acc_clean.copy()\n",
        "    auxd[rstr]['train_times'] = net_RegTrin.train_times.copy()\n",
        "    torch.save(network.state_dict(), os.path.join(mpath, k+'_r_'+str(r)+'.pth' ))\n",
        "    del(network)\n",
        "    gc.collect()\n",
        "    torch.cuda.empty_cache()\n",
        "  mdict[k] = auxd\n",
        "  with open('tests_all.txt','w') as data: \n",
        "      data.write(str(mdict))"
      ]
    }
  ],
  "metadata": {
    "accelerator": "GPU",
    "colab": {
      "collapsed_sections": [],
      "name": "Tests.ipynb",
      "provenance": []
    },
    "kernelspec": {
      "display_name": "Python 3.7.13 ('robust')",
      "language": "python",
      "name": "python3"
    },
    "language_info": {
      "codemirror_mode": {
        "name": "ipython",
        "version": 3
      },
      "file_extension": ".py",
      "mimetype": "text/x-python",
      "name": "python",
      "nbconvert_exporter": "python",
      "pygments_lexer": "ipython3",
      "version": "3.7.13"
    },
    "vscode": {
      "interpreter": {
        "hash": "9db0c36620503c59b6826d15b252b6ce2c0781fad2decf95a3020f435f1c5ad0"
      }
    }
  },
  "nbformat": 4,
  "nbformat_minor": 0
}
